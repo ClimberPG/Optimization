{
 "cells": [
  {
   "cell_type": "code",
   "execution_count": 445,
   "metadata": {},
   "outputs": [],
   "source": [
    "import numpy as np\n",
    "from scipy import optimize\n",
    "import  matplotlib.pyplot as plt\n",
    "\n",
    "x = np.r_[0, 0.25, 1, 1, 0, -0.5]\n",
    "y = np.r_[0, 0,    0, 1, 1, -0.5]\n",
    "\n",
    "method_2 = \"leastsq\"\n",
    "\n",
    "def calc_R(xc, yc):\n",
    "    \"\"\" calculate the distance of each 2D points from the center (xc, yc) \"\"\"\n",
    "    return np.sqrt((x-xc)**2 + (y-yc)**2)\n",
    "\n",
    "def f_2(c):\n",
    "    \"\"\" calculate the algebraic distance between the data points and the mean circle centered at c=(xc, yc) \"\"\"\n",
    "    Ri = calc_R(*c)\n",
    "    return Ri - Ri.mean()\n",
    "\n",
    "x_m, y_m = np.mean(x), np.mean(y)\n",
    "center_estimate = x_m, y_m\n",
    "center_2, ier = optimize.leastsq(f_2, center_estimate)\n",
    "\n",
    "xc_2, yc_2 = center_2\n",
    "Ri_2       = calc_R(*center_2)\n",
    "R_2        = Ri_2.mean()\n",
    "residu_2   = sum((Ri_2 - R_2)**2)"
   ]
  },
  {
   "cell_type": "code",
   "execution_count": 446,
   "metadata": {},
   "outputs": [
    {
     "data": {
      "text/plain": [
       "array([0.34383459, 0.4571819 ])"
      ]
     },
     "execution_count": 446,
     "metadata": {},
     "output_type": "execute_result"
    }
   ],
   "source": [
    "center_2"
   ]
  },
  {
   "cell_type": "code",
   "execution_count": 454,
   "metadata": {},
   "outputs": [],
   "source": [
    "import numpy as np\n",
    "import  matplotlib.pyplot as plt\n",
    "\n",
    "# x = np.r_[0, 0.25, 1, 1, 0, -0.5]\n",
    "# y = np.r_[0, 0,    0, 1, 1, -0.5]\n",
    "\n",
    "pointsA = np.array([[0, 0.25, 1, 1, 0, -0.5],\n",
    "                    [0, 0,    0, 1, 1, -0.5]]).T\n",
    "def calculateMatrixB(points):\n",
    "    \n",
    "    B = []\n",
    "    for p in points:\n",
    "        B.append(np.hstack((2 * p.T, -1)))\n",
    "    return np.array(B)\n",
    "\n",
    "def calculateVectord(points):\n",
    "    \n",
    "    d = []\n",
    "    for p in points:\n",
    "        d.append(np.linalg.norm(p) ** 2)\n",
    "    return np.array(d).T\n",
    "    "
   ]
  },
  {
   "cell_type": "code",
   "execution_count": 455,
   "metadata": {},
   "outputs": [],
   "source": [
    "B = calculateMatrixB(pointsA)\n",
    "d = calculateVectord(pointsA)"
   ]
  },
  {
   "cell_type": "code",
   "execution_count": 456,
   "metadata": {},
   "outputs": [],
   "source": [
    "BTB = np.dot(B.T, B)\n",
    "BTB_INV = np.linalg.inv(BTB)\n",
    "BTB_INV_BT = np.dot(BTB_INV, B.T)\n",
    "y = np.dot(BTB_INV_BT, d)"
   ]
  },
  {
   "cell_type": "code",
   "execution_count": 457,
   "metadata": {},
   "outputs": [
    {
     "data": {
      "text/plain": [
       "array([ 0.25431034,  0.31896552, -0.45258621])"
      ]
     },
     "execution_count": 457,
     "metadata": {},
     "output_type": "execute_result"
    }
   ],
   "source": [
    "y"
   ]
  },
  {
   "cell_type": "code",
   "execution_count": 458,
   "metadata": {},
   "outputs": [
    {
     "data": {
      "text/plain": [
       "array([[ 0.17241379, -0.07471264,  0.06321839],\n",
       "       [-0.07471264,  0.16570881,  0.03927203],\n",
       "       [ 0.06321839,  0.03927203,  0.22318008]])"
      ]
     },
     "execution_count": 458,
     "metadata": {},
     "output_type": "execute_result"
    }
   ],
   "source": [
    "BTB_INV"
   ]
  },
  {
   "cell_type": "code",
   "execution_count": 459,
   "metadata": {},
   "outputs": [],
   "source": [
    "# center of circle\n",
    "a, b = y[0], y[1]\n",
    "# radius of circle\n",
    "r = np.sqrt(np.sum(y[:-1] ** 2) - y[-1])"
   ]
  },
  {
   "cell_type": "code",
   "execution_count": 460,
   "metadata": {},
   "outputs": [
    {
     "data": {
      "image/png": "[encoded data removed]",
      "text/plain": [
       "<Figure size 432x288 with 1 Axes>"
      ]
     },
     "metadata": {
      "needs_background": "light"
     },
     "output_type": "display_data"
    }
   ],
   "source": [
    "theta = np.arange(0, 2*np.pi, 0.01)\n",
    "c_x = a + r * np.cos(theta)\n",
    "c_y = b + r * np.sin(theta)\n",
    "\n",
    "plt.figure()\n",
    "plt.plot(pointsA.T[0], pointsA.T[1], 'p')\n",
    "plt.plot(a, b, 'p')\n",
    "# draw the solution circle\n",
    "plt.plot(c_x, c_y, c='red')\n",
    "plt.axis('equal')\n",
    "\n",
    "plt.show()"
   ]
  },
  {
   "cell_type": "code",
   "execution_count": 390,
   "metadata": {},
   "outputs": [
    {
     "data": {
      "text/plain": [
       "(0.25431034482758635, 0.3189655172413792, 0.7867648693046342)"
      ]
     },
     "execution_count": 390,
     "metadata": {},
     "output_type": "execute_result"
    }
   ],
   "source": [
    "a, b, r"
   ]
  },
  {
   "cell_type": "code",
   "execution_count": null,
   "metadata": {},
   "outputs": [],
   "source": []
  }
 ],
 "metadata": {
  "kernelspec": {
   "display_name": "Python [conda env:root] *",
   "language": "python",
   "name": "conda-root-py"
  },
  "language_info": {
   "codemirror_mode": {
    "name": "ipython",
    "version": 3
   },
   "file_extension": ".py",
   "mimetype": "text/x-python",
   "name": "python",
   "nbconvert_exporter": "python",
   "pygments_lexer": "ipython3",
   "version": "3.7.3"
  }
 },
 "nbformat": 4,
 "nbformat_minor": 2
}
