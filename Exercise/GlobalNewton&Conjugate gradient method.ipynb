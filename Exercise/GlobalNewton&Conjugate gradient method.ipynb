{
 "cells": [
  {
   "cell_type": "code",
   "execution_count": 339,
   "metadata": {},
   "outputs": [],
   "source": [
    "# Exercise sheet 4.2\n",
    "# Jian Zhang, 219012058\n",
    "# 19.10.31"
   ]
  },
  {
   "cell_type": "code",
   "execution_count": 117,
   "metadata": {},
   "outputs": [],
   "source": [
    "import numpy as np\n",
    "import sympy as sp\n",
    "from sympy.parsing import sympy_parser as spp\n",
    "import time\n",
    "import matplotlib.pyplot as plt"
   ]
  },
  {
   "cell_type": "code",
   "execution_count": 149,
   "metadata": {},
   "outputs": [],
   "source": [
    "# Globalized Newton's Method\n",
    "# parameters:\n",
    "# - obj, objective function\n",
    "# - x0, the initial point\n",
    "# - tol, tolerance, method should stop if the criterion 'gradient f(x_k) <= tol'\n",
    "# - B1, B2, p, parameters for Newton condition\n",
    "# - s, sigma, gamma, parameters for backtracking and Armijo condition\n",
    "# - grad_method, default False, if True, use gradient as step\n",
    "def newton_glob(obj, x0, tol, B1, B2, p, s, sigma, gamma, grad_method=False):\n",
    "    \n",
    "    start_time = time.time()\n",
    "    print('Initial point', x0, 'Start iterating:')\n",
    "    \n",
    "    xn = [] # used to store iterates xk\n",
    "    gn_norm = [] # used to store iterates of gradient xk\n",
    "    iterations = 0\n",
    "    \n",
    "    x1, x2 = sp.symbols('x1 x2')\n",
    "    symbols = obj.free_symbols\n",
    "    # calculate gradient\n",
    "    grad = sp.Matrix([sp.diff(obj, i) for i in symbols])\n",
    "    # calculate Hessian\n",
    "    hess = sp.Matrix([[sp.diff(g, i) for i in symbols] for g in grad])\n",
    "    # inverse of Hessian\n",
    "    if hess.det():\n",
    "        hess_inv = hess.inv()\n",
    "    else:\n",
    "        print('det of objective function Hessian is not invertible')\n",
    "    \n",
    "    cur_point = x0\n",
    "    \n",
    "    cur_grad = grad.evalf(subs = {x1:x0[0],x2:x0[1]})\n",
    "    norm = float(cur_grad.norm())\n",
    "            \n",
    "    cur_hess = hess.evalf(subs = {x1:x0[0],x2:x0[1]})\n",
    "    \n",
    "    while norm > tol:\n",
    "        \n",
    "        xn.append(cur_point)\n",
    "        gn_norm.append(norm)\n",
    "        \n",
    "        # stop if Hessian is singular\n",
    "        if cur_hess.det() == 0:\n",
    "            print('Hessian is singular')\n",
    "            break\n",
    "        \n",
    "        # Gradient method\n",
    "        step = -cur_grad.T\n",
    "        # Newton method\n",
    "        if not grad_method:\n",
    "            d = -cur_grad.T * cur_hess.inv()\n",
    "            # calculate norm\n",
    "            norm_d = float(d.norm())\n",
    "            norm_d_p = norm_d ** p\n",
    "            norm_d_sq = norm_d ** 2\n",
    "\n",
    "            Min = min(B1,B2*norm_d_p)*norm_d_sq\n",
    "            if np.dot(-cur_grad.T, d.T) >= Min:\n",
    "                step = d\n",
    "            else:\n",
    "                step = -cur_grad.T\n",
    "                    \n",
    "        alpha = s\n",
    "        pre_point = cur_point\n",
    "        pre_value = obj.evalf(subs = {x1:pre_point[0], x2:pre_point[1]})\n",
    "        cur_point = [pre_point[0] + alpha * step[0], pre_point[1] + alpha * step[1]]\n",
    "        cur_value = obj.evalf(subs = {x1:cur_point[0], x2:cur_point[1]})\n",
    "        \n",
    "        while cur_value > pre_value + gamma*alpha*np.dot(cur_grad.T, step.T):\n",
    "            alpha = alpha * sigma\n",
    "            cur_point = [pre_point[0] + alpha * step[0], pre_point[1] + alpha * step[1]]\n",
    "            cur_value = obj.evalf(subs = {x1:cur_point[0], x2:cur_point[1]})\n",
    "        \n",
    "        iterations += 1\n",
    "        \n",
    "        cur_grad = grad.evalf(subs = {x1:cur_point[0],x2:cur_point[1]})\n",
    "        norm = float(cur_grad.norm())\n",
    "        \n",
    "        cur_hess = hess.evalf(subs = {x1:cur_point[0],x2:cur_point[1]})\n",
    "        \n",
    "        #print(iterations, cur_point)\n",
    "        #if iterations % 500 == 0:\n",
    "        #    print('iterations:', iterations, cur_point, 'Time Cost(s):', '%.3f'%(time.time() - start_time))\n",
    "        \n",
    "    print('Total', iterations, 'iterations. Time Cost(s):', '%.3f'%(time.time() - start_time), \\\n",
    "          'Converged point:', cur_point, '\\n')\n",
    "    \n",
    "    return xn, gn_norm, cur_point\n",
    "        "
   ]
  },
  {
   "cell_type": "code",
   "execution_count": 82,
   "metadata": {},
   "outputs": [],
   "source": [
    "# Test objective function\n",
    "f1 = spp.parse_expr('-13 + x1 + ((5 - x2) * x2 - 2) * x2')\n",
    "f2 = spp.parse_expr('-29 + x1 + ((x2 + 1) * x2 - 14) * x2')\n",
    "f = f1**2 + f2**2"
   ]
  },
  {
   "cell_type": "code",
   "execution_count": 83,
   "metadata": {},
   "outputs": [
    {
     "name": "stdout",
     "output_type": "stream",
     "text": [
      "f(x1*) =  1.07486017721073e-136\n",
      "f(x2*) =  819.010259352310\n",
      "f(x3*) =  48.9842536792400\n"
     ]
    }
   ],
   "source": [
    "# Verify that x1* is a globbal minimizer of f\n",
    "def verifyGlobalMin(f):\n",
    "    x1, x2 = sp.symbols('x1 x2')\n",
    "    print('f(x1*) = ', f.evalf(subs = {x1:5,x2:4}))\n",
    "    print('f(x2*) = ', f.evalf(subs = {x1:(53 + 4 * np.sqrt(22)) / 3, x2:(2 + np.sqrt(22)) / 3}))\n",
    "    print('f(x3*) = ', f.evalf(subs = {x1:(53 - 4 * np.sqrt(22)) / 3, x2:(2 - np.sqrt(22)) / 3}))\n",
    "\n",
    "verifyGlobalMin(f)"
   ]
  },
  {
   "cell_type": "code",
   "execution_count": 173,
   "metadata": {},
   "outputs": [
    {
     "name": "stdout",
     "output_type": "stream",
     "text": [
      "Initial point [-50, 7] Start iterating:\n",
      "Total 8 iterations. Time Cost(s): 0.377 Converged point: [4.99999999997935, 4.00000000000154] \n",
      "\n"
     ]
    },
    {
     "data": {
      "image/png": "[encoded data removed]",
      "text/plain": [
       "<Figure size 432x288 with 2 Axes>"
      ]
     },
     "metadata": {
      "needs_background": "light"
     },
     "output_type": "display_data"
    },
    {
     "name": "stdout",
     "output_type": "stream",
     "text": [
      "Initial point [20, 7] Start iterating:\n",
      "Total 8 iterations. Time Cost(s): 0.381 Converged point: [4.99999999996832, 4.00000000000236] \n",
      "\n"
     ]
    },
    {
     "data": {
      "image/png": "[encoded data removed]",
      "text/plain": [
       "<Figure size 432x288 with 2 Axes>"
      ]
     },
     "metadata": {
      "needs_background": "light"
     },
     "output_type": "display_data"
    },
    {
     "name": "stdout",
     "output_type": "stream",
     "text": [
      "Initial point [20, -18] Start iterating:\n",
      "Total 16 iterations. Time Cost(s): 0.672 Converged point: [11.4127789869019, -0.896805253274496] \n",
      "\n"
     ]
    },
    {
     "data": {
      "image/png": "[encoded data removed]",
      "text/plain": [
       "<Figure size 432x288 with 2 Axes>"
      ]
     },
     "metadata": {
      "needs_background": "light"
     },
     "output_type": "display_data"
    },
    {
     "name": "stdout",
     "output_type": "stream",
     "text": [
      "Initial point [-8, -50] Start iterating:\n",
      "Total 21 iterations. Time Cost(s): 0.735 Converged point: [11.4127789869021, -0.896805253274476] \n",
      "\n"
     ]
    },
    {
     "data": {
      "image/png": "[encoded data removed]",
      "text/plain": [
       "<Figure size 432x288 with 2 Axes>"
      ]
     },
     "metadata": {
      "needs_background": "light"
     },
     "output_type": "display_data"
    }
   ],
   "source": [
    "# Test initial points\n",
    "intial_points = [ [-50, 7], [20, 7], [20, -18], [-8, -50] ]\n",
    "# Apply Globalized Newton Method\n",
    "for point in intial_points:\n",
    "    \n",
    "    xn, gn_norm, converged_point = newton_glob(f, point, 1e-8, 1e-6, 1e-6, 0.1, 1, 0.5, 0.1)\n",
    "    \n",
    "    # calculate for plot\n",
    "    xk_minus_xstar_norm = []\n",
    "    for xk in xn:\n",
    "        k1 = float(xk[0] - converged_point[0])\n",
    "        k2 = float(xk[1] - converged_point[1])\n",
    "        norm = np.sqrt(k1 ** 2 + k2 ** 2)\n",
    "        xk_minus_xstar_norm.append(norm)\n",
    "    \n",
    "    plt.figure()\n",
    "    plt.subplot(121)\n",
    "    plt.plot(np.log(xk_minus_xstar_norm))\n",
    "    plt.title('Log ||xk-x*||', y=-0.2)\n",
    "    plt.subplot(122)\n",
    "    plt.plot(np.log(gn_norm))\n",
    "    plt.title('Log ||grad_f(x*)||', y=-0.2)\n",
    "    \n",
    "    plt.suptitle('Initial point: {}'.format(point))\n",
    "    plt.show()"
   ]
  },
  {
   "cell_type": "code",
   "execution_count": 100,
   "metadata": {},
   "outputs": [
    {
     "name": "stdout",
     "output_type": "stream",
     "text": [
      "Initial point [-50, 7] Start iterating:\n",
      "Total 6596 iterations. Time Cost(s): 354.818 Coverage points: [11.4127696797573, -0.896805799403163] \n",
      "\n",
      "Initial point [20, 7] Start iterating:\n",
      "Total 8858 iterations. Time Cost(s): 618.710 Coverage points: [5.00000247891144, 3.99999995558952] \n",
      "\n",
      "Initial point [20, -18] Start iterating:\n",
      "Total 8767 iterations. Time Cost(s): 604.106 Coverage points: [5.00000256776246, 3.99999995413150] \n",
      "\n",
      "Initial point [-8, -50] Start iterating:\n",
      "Total 8758 iterations. Time Cost(s): 619.690 Coverage points: [4.99999749903115, 4.00000004479747] \n",
      "\n"
     ]
    }
   ],
   "source": [
    "# Apply Gradient Method\n",
    "for point in intial_points[0:]:\n",
    "    \n",
    "    xn, gn_norm, converged_point = newton_glob(f, point, 1e-5, 1e-6, 1e-6, 0.1, 1, 0.5, 0.1, grad_method=True)"
   ]
  },
  {
   "cell_type": "code",
   "execution_count": 388,
   "metadata": {},
   "outputs": [],
   "source": [
    "# The Conjugate Gradient Method\n",
    "# parameters\n",
    "# - A, symmetric and positive definite matrix\n",
    "# - b, vector b\n",
    "# - x0, initial point\n",
    "# - tol, tolerance\n",
    "# - max_iter, maximum iterations\n",
    "def cg_method(A,b,x0,tol,max_iter):\n",
    "    \n",
    "    start_time = time.time()\n",
    "    \n",
    "    r0 = np.dot(A,x0) - b\n",
    "    p0 = -r0\n",
    "    x1 = x0\n",
    "    iterations  = 0\n",
    "    xk = []\n",
    "    \n",
    "    while(iterations < max_iter):\n",
    "        xk.append(x1)\n",
    "        a0 = np.dot(r0,r0) / np.dot(np.dot(p0.T,A),p0)\n",
    "        x1 = x0 + np.dot(a0,p0)\n",
    "        r1 = r0 + np.dot(np.dot(a0,A),p0)\n",
    "        \n",
    "        if(np.linalg.norm(r1) <= tol):\n",
    "            break\n",
    "        b0 = np.dot(r1,r1) / np.dot(r0,r0)\n",
    "        p1 = -r1 + np.dot(b0,p0)\n",
    "        x0, p0, r0 = x1, p1, r1\n",
    "        iterations += 1\n",
    "    \n",
    "    cpu_time = time.time() - start_time\n",
    "        \n",
    "    return x1, iterations, cpu_time, xk"
   ]
  },
  {
   "cell_type": "code",
   "execution_count": 396,
   "metadata": {},
   "outputs": [],
   "source": [
    "# The Gradient Method with exact line search applied to the quadratic problem\n",
    "# parameters\n",
    "# - A, symmetric and positive definite matrix\n",
    "# - b, vector b\n",
    "# - x0, initial point\n",
    "# - tol, tolerance\n",
    "# - max_iter, maximum iterations\n",
    "def grad_method(A,b,x0,tol,max_iter):\n",
    "    \n",
    "    start_time = time.time()\n",
    "    x = x0\n",
    "    iterations  = 0\n",
    "    g = A.dot(x) - b\n",
    "    ng = np.linalg.norm(g)\n",
    "    xk = []\n",
    "    \n",
    "    while(iterations < max_iter):\n",
    "        \n",
    "        xk.append(x)\n",
    "        if(ng <= tol):\n",
    "            break\n",
    "        \n",
    "        alpha = ng * ng / g.dot(A.dot(g))\n",
    "        x = x - alpha * g\n",
    "        g = np.dot(A, x) - b\n",
    "        ng = np.linalg.norm(g)\n",
    "        \n",
    "        iterations += 1\n",
    "    \n",
    "    cpu_time = time.time() - start_time\n",
    "        \n",
    "    return x, iterations, cpu_time, xk"
   ]
  },
  {
   "cell_type": "code",
   "execution_count": 361,
   "metadata": {},
   "outputs": [],
   "source": [
    "# generate test case\n",
    "def generatePara(n):\n",
    "    A = np.ones((n, n))\n",
    "    row, col = np.diag_indices(n)\n",
    "    A[row,col] = np.array([i for i in range(1, n + 1)])\n",
    "    \n",
    "    b = np.ones(n)\n",
    "    x0 = np.zeros(n)\n",
    "    \n",
    "    return A, b, x0"
   ]
  },
  {
   "cell_type": "code",
   "execution_count": 362,
   "metadata": {},
   "outputs": [],
   "source": [
    "# generate parameters for n = {50, 100, 1000, 2500}\n",
    "A_50, b_50, x0_50 = generatePara(50)\n",
    "A_100, b_100, x0_100 = generatePara(100)\n",
    "A_1000, b_1000, x0_1000 = generatePara(1000)\n",
    "A_2500, b_2500, x0_2500 = generatePara(2500)"
   ]
  },
  {
   "cell_type": "code",
   "execution_count": 389,
   "metadata": {},
   "outputs": [],
   "source": [
    "x1_50, iter_50, time_50, xk_50 = cg_method(A_50, b_50, x0_50, 1e-6, 1000)\n",
    "x1_100, iter_100, time_100, xk_100 = cg_method(A_100, b_100, x0_100, 1e-6, 1000)\n",
    "x1_1000, iter_1000, time_1000, xk_1000 = cg_method(A_1000, b_1000, x0_1000, 1e-6, 1000)\n",
    "x1_2500, iter_2500, time_2500, xk_2500 = cg_method(A_2500, b_2500, x0_2500, 1e-6, 1000)"
   ]
  },
  {
   "cell_type": "code",
   "execution_count": 383,
   "metadata": {
    "scrolled": true
   },
   "outputs": [
    {
     "name": "stdout",
     "output_type": "stream",
     "text": [
      "cg method results\n",
      "n = 50 iterations: 38 cpu_time: 0.0016148090362548828\n",
      "n = 100 iterations: 57 cpu_time: 0.002157926559448242\n",
      "n = 1000 iterations: 192 cpu_time: 3.381535053253174\n",
      "n = 2500 iterations: 306 cpu_time: 55.568150997161865\n"
     ]
    }
   ],
   "source": [
    "# cg method iterations and cpu_time\n",
    "print('[cg method results]')\n",
    "print('n = 50 iterations:', iter_50, 'cpu_time:', time_50)\n",
    "print('n = 100 iterations:', iter_100, 'cpu_time:', time_100)\n",
    "print('n = 1000 iterations:', iter_1000, 'cpu_time:', time_1000)\n",
    "print('n = 2500 iterations:', iter_2500, 'cpu_time:', time_2500)"
   ]
  },
  {
   "cell_type": "code",
   "execution_count": 397,
   "metadata": {},
   "outputs": [],
   "source": [
    "gx1_50, giter_50, gtime_50, gxk_50 = grad_method(A_50, b_50, x0_50, 1e-6, 1000000)\n",
    "gx1_100, giter_100, gtime_100, gxk_100 = grad_method(A_100, b_100, x0_100, 1e-6, 1000000)\n",
    "gx1_1000, giter_1000, gtime_1000, gxk_1000 = grad_method(A_1000, b_1000, x0_1000, 1e-6, 1000000)\n",
    "#gx1_2500, giter_2500, gtime_2500, gxk_2500 = grad_method(A_2500, b_2500, x0_2500, 1e-6, 1000000)"
   ]
  },
  {
   "cell_type": "code",
   "execution_count": 403,
   "metadata": {},
   "outputs": [],
   "source": [
    "gx1_2500, giter_2500, gtime_2500, gxk_2500 = grad_method(A_2500, b_2500, x0_2500, 1e-6, 1000000)"
   ]
  },
  {
   "cell_type": "code",
   "execution_count": 386,
   "metadata": {},
   "outputs": [
    {
     "name": "stdout",
     "output_type": "stream",
     "text": [
      "[gradient method results]\n",
      "n = 50 iterations: 2681 cpu_time: 0.03241920471191406\n",
      "n = 100 iterations: 5943 cpu_time: 0.0871429443359375\n",
      "n = 1000 iterations: 78277 cpu_time: 15.546622037887573\n",
      "n = 2500 iterations: 214161 cpu_time: 534.8798232078552\n"
     ]
    }
   ],
   "source": [
    "# gradient method iterations and cpu_time\n",
    "print('[gradient method results]')\n",
    "print('n = 50 iterations:', giter_50, 'cpu_time:', gtime_50)\n",
    "print('n = 100 iterations:', giter_100, 'cpu_time:', gtime_100)\n",
    "print('n = 1000 iterations:', giter_1000, 'cpu_time:', gtime_1000)\n",
    "print('n = 2500 iterations:', giter_2500, 'cpu_time:', gtime_2500)"
   ]
  },
  {
   "cell_type": "code",
   "execution_count": 387,
   "metadata": {},
   "outputs": [
    {
     "name": "stdout",
     "output_type": "stream",
     "text": [
      "[ 1.00000000e+00  1.23443633e-12 -8.44750250e-12  5.05892509e-11\n",
      " -2.40287071e-10  9.12174227e-10 -2.78870638e-09  6.88714630e-09\n",
      " -1.36666292e-08  2.13839378e-08 -2.51771510e-08  1.95458158e-08\n",
      " -4.43849242e-09 -1.08844175e-08  1.39244065e-08 -2.54330040e-09\n",
      " -9.88031718e-09  8.64769767e-09  3.48210545e-09 -9.40267308e-09\n",
      "  1.43996538e-09  7.74241032e-09 -4.47251227e-09 -5.27464165e-09\n",
      "  6.04238366e-09  2.64121303e-09 -6.54331058e-09 -3.70726625e-11\n",
      "  6.13596956e-09 -2.44977696e-09 -4.74424220e-09  4.57932077e-09\n",
      "  2.15402436e-09 -5.66716564e-09  1.61944214e-09  4.33140443e-09\n",
      " -5.25796568e-09  8.22215456e-10  4.32557846e-09 -6.48722294e-09\n",
      "  5.55132613e-09 -3.39948651e-09  1.58916055e-09 -5.79548913e-10\n",
      "  1.65122529e-10 -3.62556367e-11  5.95151207e-12 -6.89137931e-13\n",
      "  5.11092378e-14 -1.17500128e-15]\n",
      "[1. 0. 0. 0. 0. 0. 0. 0. 0. 0. 0. 0. 0. 0. 0. 0. 0. 0. 0. 0. 0. 0. 0. 0.\n",
      " 0. 0. 0. 0. 0. 0. 0. 0. 0. 0. 0. 0. 0. 0. 0. 0. 0. 0. 0. 0. 0. 0. 0. 0.\n",
      " 0. 0.]\n",
      "[ 1.00000000e+00  7.90024445e-13 -6.18268621e-12  3.90358050e-11\n",
      " -1.95925406e-10  7.76885750e-10 -2.45162468e-09  6.15079576e-09\n",
      " -1.21321538e-08  1.82502349e-08 -1.94108244e-08  1.12651030e-08\n",
      "  2.97161827e-09 -1.15088987e-08  5.83811084e-09  6.07436195e-09\n",
      " -7.56162984e-09 -2.56248648e-09  7.03215582e-09  1.15217081e-09\n",
      " -6.16626267e-09 -1.02176142e-09  5.34904292e-09  1.58280303e-09\n",
      " -4.47358239e-09 -2.44606383e-09  3.34998352e-09  3.27107192e-09\n",
      " -1.88062610e-09 -3.71391684e-09  1.54341745e-10  3.47974453e-09\n",
      "  1.52288946e-09 -2.44946266e-09 -2.70209657e-09  7.96836106e-10\n",
      "  2.97128455e-09  9.94115314e-10 -2.18630782e-09 -2.28173469e-09\n",
      "  6.20603838e-10  2.55130901e-09  1.07979378e-09 -1.70120861e-09\n",
      " -2.16771247e-09  1.45517006e-10  2.16502810e-09  1.35712082e-09\n",
      " -1.12639106e-09 -2.08685389e-09 -3.82467810e-10  1.73645627e-09\n",
      "  1.58812735e-09 -5.58990031e-10 -1.92460749e-09 -8.02107343e-10\n",
      "  1.30694607e-09  1.67802721e-09 -1.23287564e-10 -1.71532788e-09\n",
      " -1.02513093e-09  9.98348066e-10  1.64748145e-09  6.97388610e-11\n",
      " -1.57076414e-09 -1.02131422e-09  9.40937638e-10  1.54280991e-09\n",
      " -7.71264499e-11 -1.56419906e-09 -7.13175316e-10  1.20871859e-09\n",
      "  1.24978945e-09 -6.81637365e-10 -1.50488362e-09  1.65359967e-10\n",
      "  1.55478211e-09  2.26438338e-10 -1.51734598e-09 -4.44814807e-10\n",
      "  1.49788549e-09  4.61148918e-10 -1.55662854e-09 -2.16351356e-10\n",
      "  1.65147905e-09 -4.09079517e-10 -1.49595599e-09  1.42998956e-09\n",
      "  3.42947775e-10 -1.87397500e-09  2.12874945e-09 -1.49998945e-09\n",
      "  7.58856991e-10 -2.89189584e-10  8.38309332e-11 -1.85578794e-11\n",
      "  2.87169261e-12 -4.54094740e-13 -9.47211177e-14 -1.21394729e-13]\n",
      "[1. 0. 0. 0. 0. 0. 0. 0. 0. 0. 0. 0. 0. 0. 0. 0. 0. 0. 0. 0. 0. 0. 0. 0.\n",
      " 0. 0. 0. 0. 0. 0. 0. 0. 0. 0. 0. 0. 0. 0. 0. 0. 0. 0. 0. 0. 0. 0. 0. 0.\n",
      " 0. 0. 0. 0. 0. 0. 0. 0. 0. 0. 0. 0. 0. 0. 0. 0. 0. 0. 0. 0. 0. 0. 0. 0.\n",
      " 0. 0. 0. 0. 0. 0. 0. 0. 0. 0. 0. 0. 0. 0. 0. 0. 0. 0. 0. 0. 0. 0. 0. 0.\n",
      " 0. 0. 0. 0.]\n",
      "[ 1.00000000e+00  2.52383372e-13 -2.28944491e-12  1.54515061e-11\n",
      " -8.31968892e-11  3.51561134e-10 -1.17530706e-09  3.10153087e-09\n",
      " -6.38018828e-09  9.90042589e-09 -1.06851041e-08  6.03954022e-09\n",
      "  2.07057195e-09 -6.37695204e-09  2.27988415e-09  4.12414528e-09\n",
      " -3.16748305e-09 -2.83298560e-09  2.87433521e-09  2.48034834e-09\n",
      " -2.16559821e-09 -2.57791723e-09  1.16198492e-09  2.65925747e-09\n",
      "  7.80498935e-11 -2.31414131e-09 -1.29211658e-09  1.31647982e-09\n",
      "  1.98397484e-09  1.48309541e-10 -1.68601771e-09 -1.40333601e-09\n",
      "  4.25119707e-10  1.62983573e-09  1.00702383e-09 -6.00961399e-10\n",
      " -1.47626939e-09 -8.39678420e-10  5.48674292e-10  1.32278093e-09\n",
      "  8.38397861e-10 -3.56143149e-10 -1.15865166e-09 -9.22657560e-10\n",
      "  6.47805035e-11  9.35549671e-10  1.00493130e-09  2.84304611e-10\n",
      " -6.10597553e-10 -9.93121535e-10 -6.20366279e-10  1.80643148e-10\n",
      "  8.08229042e-10  8.36175003e-10  2.87934461e-10 -4.25875644e-10\n",
      " -8.19633401e-10 -6.57511685e-10 -8.05608014e-11  5.18952395e-10\n",
      "  7.65835365e-10  5.30655473e-10 -1.45440205e-11 -5.25951831e-10\n",
      " -7.05142330e-10 -4.67887830e-10  2.61715634e-11  4.84064738e-10\n",
      "  6.53354901e-10  4.57186789e-10  2.16654982e-11 -4.07662317e-10\n",
      " -6.04660055e-10 -4.78848010e-10 -1.11584616e-10  2.98198566e-10\n",
      "  5.42583286e-10  5.08465525e-10  2.26165393e-10 -1.55487414e-10\n",
      " -4.48807260e-10 -5.18887627e-10 -3.43210481e-10 -1.44841781e-11\n",
      "  3.09566963e-10  4.82057082e-10  4.32185695e-10  1.91804608e-10\n",
      " -1.25116869e-10 -3.77274504e-10 -4.58642015e-10 -3.41566946e-10\n",
      " -8.37091289e-11  2.01212817e-10  3.93903904e-10  4.18830423e-10\n",
      "  2.72430444e-10  2.04277435e-11 -2.32361631e-10 -3.85738106e-10\n",
      " -3.83201498e-10 -2.31542853e-10  5.21008425e-12  2.33357882e-10\n",
      "  3.66644788e-10  3.58309165e-10  2.16469977e-10 -1.70451890e-12\n",
      " -2.13476701e-10 -3.41948457e-10 -3.43539289e-10 -2.21951530e-10\n",
      " -2.45361122e-11  1.76530980e-10  3.10710745e-10  3.33532399e-10\n",
      "  2.40699932e-10  6.76851742e-11 -1.24167253e-10 -2.69521543e-10\n",
      " -3.21115280e-10 -2.64662824e-10 -1.22100965e-10  5.72065245e-11\n",
      "  2.13746475e-10  2.97545333e-10  2.83811595e-10  1.79771369e-10\n",
      "  2.10231943e-11 -1.40861080e-10 -2.55133041e-10 -2.87605935e-10\n",
      " -2.30534361e-10 -1.03918879e-10  5.17077717e-11  1.88380813e-10\n",
      "  2.65440899e-10  2.61416278e-10  1.79663567e-10  4.64174186e-11\n",
      " -9.77955206e-11 -2.10539678e-10 -2.59867901e-10 -2.33154655e-10\n",
      " -1.40004563e-10 -8.69321647e-12  1.22539607e-10  2.16643265e-10\n",
      "  2.48112108e-10  2.09692641e-10  1.13751125e-10 -1.18291626e-11\n",
      " -1.31844590e-10 -2.13638500e-10 -2.35884958e-10 -1.93965342e-10\n",
      " -1.00644813e-10  1.79248310e-11  1.29608596e-10  2.04991663e-10\n",
      "  2.25036085e-10  1.85730645e-10  9.86501883e-11 -1.25480837e-11\n",
      " -1.18617188e-10 -1.92410724e-10 -2.15756683e-10 -1.83800429e-10\n",
      " -1.05820771e-10 -2.45615491e-12  9.98197547e-11  1.75484972e-10\n",
      "  2.06283091e-10  1.85521733e-10  1.19376356e-10  2.49959500e-11\n",
      " -7.40042700e-11 -1.53468977e-10 -1.94561186e-10 -1.88145630e-10\n",
      " -1.36701818e-10 -5.34022338e-11  4.13207280e-11  1.24814750e-10\n",
      "  1.77608778e-10  1.87895246e-10  1.54079415e-10  8.48716944e-11\n",
      " -3.01120331e-12 -8.89216295e-11 -1.53134088e-10 -1.81338243e-10\n",
      " -1.67759994e-10 -1.16249074e-10 -3.91564743e-11  4.56703946e-11\n",
      "  1.19037175e-10  1.64730626e-10  1.73055608e-10  1.42822293e-10\n",
      "  8.13953749e-11  2.85757446e-12 -7.52485050e-11 -1.35842304e-10\n",
      " -1.66015707e-10 -1.59733614e-10 -1.18972774e-10 -5.31026164e-11\n",
      "  2.33041222e-11  9.37139950e-11  1.43205127e-10  1.61600358e-10\n",
      "  1.45511528e-10  9.88966658e-11  3.20577469e-11 -4.06644469e-11\n",
      " -1.03978336e-10 -1.44846826e-10 -1.55141637e-10 -1.33214217e-10\n",
      " -8.40909608e-11 -1.82924040e-11  5.04425587e-11  1.08031867e-10\n",
      "  1.42923265e-10  1.48382688e-10  1.23752019e-10  7.44515256e-11\n",
      "  1.07612120e-11 -5.43413556e-11 -1.07829467e-10 -1.39221726e-10\n",
      " -1.42609412e-10 -1.17730991e-10 -6.99074029e-11 -8.88106594e-12\n",
      "  5.31848851e-11  1.04134096e-10  1.34187057e-10  1.37794741e-10\n",
      "  1.14630028e-10  6.95474990e-11  1.15456449e-11 -4.80438586e-11\n",
      " -9.77734933e-11 -1.28270114e-10 -1.33981521e-10 -1.14158567e-10\n",
      " -7.29056304e-11 -1.83126851e-11  3.91450690e-11  8.86215785e-11\n",
      "  1.20940795e-10  1.30281922e-10  1.15203323e-10  7.88303965e-11\n",
      "  2.81922224e-11 -2.71503293e-11 -7.69154532e-11 -1.12006750e-10\n",
      " -1.26162931e-10 -1.17054657e-10 -8.66407775e-11 -4.07358154e-11\n",
      "  1.21149189e-11  6.22331255e-11  1.00578700e-10  1.20370883e-10\n",
      "  1.18270870e-10  9.49231076e-11  5.47723113e-11  5.20454940e-12\n",
      " -4.48198510e-11 -8.63875241e-11 -1.12214220e-10 -1.17908598e-10\n",
      " -1.02701042e-10 -6.95202772e-11 -2.44178822e-11  2.45447905e-11\n",
      "  6.87412959e-11  1.00497197e-10  1.14413614e-10  1.08270915e-10\n",
      "  8.33641814e-11  4.42237087e-11 -2.21886271e-12 -4.78639789e-11\n",
      " -8.48569878e-11 -1.06934214e-10 -1.10472839e-10 -9.50708248e-11\n",
      " -6.35669110e-11 -2.15080936e-11  2.38343898e-11  6.47250295e-11\n",
      "  9.42814369e-11  1.07625458e-10  1.02676997e-10  8.04635767e-11\n",
      "  4.49025758e-11  2.10234699e-12 -4.06920242e-11 -7.63257912e-11\n",
      " -9.89267401e-11 -1.04864784e-10 -9.33237088e-11 -6.63972214e-11\n",
      " -2.87017964e-11  1.34212005e-11  5.29754145e-11  8.34705782e-11\n",
      "  9.99824799e-11  9.99397072e-11  8.35131030e-11  5.35510068e-11\n",
      "  1.50785919e-11 -2.55498792e-11 -6.17022083e-11 -8.75488885e-11\n",
      " -9.89976046e-11 -9.43329155e-11 -7.44626153e-11 -4.27375088e-11\n",
      " -4.38050810e-12  3.43769293e-11  6.73077882e-11  8.91873105e-11\n",
      "  9.66163241e-11  8.85414009e-11  6.63937026e-11  3.38303545e-11\n",
      " -3.87438257e-12 -4.06861536e-11 -7.07762013e-11 -8.94413102e-11\n",
      " -9.38334318e-11 -8.33867893e-11 -5.98797824e-11 -2.71273961e-11\n",
      "  9.64211939e-12  4.46239143e-11  7.23524623e-11  8.85524183e-11\n",
      "  9.07925681e-11  7.88437531e-11  5.46893454e-11  2.21915847e-11\n",
      " -1.35295371e-11 -4.69045306e-11 -7.27820524e-11 -8.72210046e-11\n",
      " -8.80858486e-11 -7.53560969e-11 -5.11062221e-11 -1.91636023e-11\n",
      "  1.54986284e-11  4.75371152e-11  7.20611750e-11  8.53765350e-11\n",
      "  8.55373343e-11  7.26246889e-11  4.87129710e-11  1.75329747e-11\n",
      " -1.61128609e-11 -4.70912217e-11 -7.07203028e-11 -8.34747936e-11\n",
      " -8.35077589e-11 -7.09128865e-11 -4.76907165e-11 -1.74276760e-11\n",
      "  1.52602145e-11  4.54323759e-11  6.85697147e-11  8.12491620e-11\n",
      "  8.16464697e-11  6.97940232e-11  4.75580192e-11  1.83417530e-11\n",
      " -1.34374562e-11 -4.30170458e-11 -6.60023740e-11 -7.90176254e-11\n",
      " -8.01984096e-11 -6.94547185e-11 -4.84678339e-11 -2.04246680e-11\n",
      "  1.04682020e-11  3.96164193e-11  6.27207132e-11  7.64093082e-11\n",
      "  7.87272228e-11  6.94118567e-11  4.99166636e-11  2.31821066e-11\n",
      " -6.80971354e-12 -3.56291151e-11 -5.90528210e-11 -7.36814564e-11\n",
      " -7.74304888e-11 -6.98241451e-11 -5.20513293e-11 -2.67778634e-11\n",
      "  2.25512006e-12  3.07858806e-11  5.46575746e-11  7.04227661e-11\n",
      "  7.58392851e-11  7.01864019e-11  5.43572198e-11  3.07160075e-11\n",
      "  2.74346144e-12 -2.54767121e-11 -4.98540352e-11 -6.68833233e-11\n",
      " -7.41470228e-11 -7.06561233e-11 -5.69819230e-11 -3.51615937e-11\n",
      " -8.39320565e-12  1.94339420e-11  4.43046170e-11  6.26564064e-11\n",
      "  7.18886425e-11  7.07290110e-11  5.94064875e-11  3.96074657e-11\n",
      "  1.42232681e-11 -1.30730336e-11 -3.83584102e-11 -5.80233001e-11\n",
      " -6.92858250e-11 -7.05837288e-11 -6.17890731e-11 -4.42165088e-11\n",
      " -2.04256163e-11  6.15281061e-12  3.17118991e-11  5.26137395e-11\n",
      "  6.59063819e-11  6.97394304e-11  6.36199668e-11  4.84736446e-11\n",
      "  2.65037925e-11  8.70046630e-13 -2.47664851e-11 -4.67660512e-11\n",
      " -6.20264157e-11 -6.84193001e-11 -6.50858270e-11 -5.25502173e-11\n",
      " -3.26369201e-11 -8.20434022e-12  1.72659199e-11  4.01652121e-11\n",
      "  5.72687160e-11  6.61887740e-11  6.57071236e-11  5.59399337e-11\n",
      "  3.83135334e-11  1.53554908e-11 -9.66825751e-12 -3.32181184e-11\n",
      " -5.19812422e-11 -6.33369663e-11 -6.57219782e-11 -5.88444815e-11\n",
      " -4.37181684e-11 -2.25123675e-11  1.75945331e-12  2.56680436e-11\n",
      "  4.58527171e-11  5.94932984e-11  6.47034946e-11  6.07909184e-11\n",
      "  4.83480551e-11  2.91623833e-11  5.95929431e-12 -1.79851817e-11\n",
      " -3.93068215e-11 -5.50255670e-11 -6.29615426e-11 -6.20367377e-11\n",
      " -5.24207069e-11 -3.55007060e-11 -1.36813791e-11  9.95707420e-12\n",
      "  3.20936486e-11  4.96328646e-11  6.01372607e-11  6.21656721e-11\n",
      "  5.54704372e-11  4.10266161e-11  2.08899597e-11 -2.09569862e-12\n",
      " -2.46999777e-11 -4.37597516e-11 -5.66214960e-11 -6.15103979e-11\n",
      " -5.77749171e-11 -4.59731698e-11 -2.77897527e-11 -5.79536404e-12\n",
      "  1.69164985e-11  3.71644369e-11  5.21245678e-11  5.97241256e-11\n",
      "  5.89284419e-11  4.98816018e-11  3.38816937e-11  1.31947572e-11\n",
      " -9.26594150e-12 -3.03499505e-11 -4.71113190e-11 -5.72200534e-11\n",
      " -5.92859012e-11 -5.30495105e-11 -3.94146680e-11 -2.03176817e-11\n",
      "  1.54728872e-12  2.31080235e-11  4.13456880e-11  5.37173669e-11\n",
      "  5.85105967e-11  5.50804687e-11  4.39364844e-11  2.66674321e-11\n",
      "  5.71531213e-12 -1.59696093e-11 -3.53439339e-11 -4.96981129e-11\n",
      " -5.70353878e-11 -5.63497076e-11 -4.77639334e-11 -3.25093026e-11\n",
      " -1.27494296e-11  8.72606684e-12  2.88950219e-11  4.49278167e-11\n",
      "  5.45843753e-11  5.65273508e-11  5.05077120e-11  3.73969129e-11\n",
      "  1.90614586e-11 -1.90219660e-12 -2.25348471e-11 -3.99319810e-11\n",
      " -5.16526329e-11 -5.60621089e-11 -5.25604423e-11 -4.16645778e-11\n",
      " -2.49329601e-11 -4.74339802e-12  1.60442394e-11  3.44927502e-11\n",
      "  4.80025320e-11  5.46781220e-11  5.35946456e-11  4.49266525e-11\n",
      "  2.99212879e-11  1.07197755e-11 -9.94736877e-12 -2.91481235e-11\n",
      " -4.41647526e-11 -5.28786828e-11 -5.40699303e-11 -4.75887009e-11\n",
      " -3.43749080e-11 -1.63229459e-11  3.98897692e-12  2.36664134e-11\n",
      "  3.99108509e-11  5.04178521e-11  5.37044946e-11  4.93195344e-11\n",
      "  3.79063670e-11  2.11098707e-11  1.34043010e-12 -1.85711571e-11\n",
      " -3.57786131e-11 -4.78270922e-11 -5.30039132e-11 -5.05829261e-11\n",
      " -4.09275291e-11 -2.54375489e-11 -6.34755612e-12  1.35945064e-11\n",
      "  3.15223232e-11  4.48631299e-11  5.17073973e-11  5.10830898e-11\n",
      "  4.30949811e-11  2.89088788e-11  1.05829103e-11 -9.22990430e-12\n",
      " -2.76650070e-11 -4.20602949e-11 -5.03409520e-11 -5.13194553e-11\n",
      " -4.48672307e-11 -3.19329616e-11 -1.44047124e-11  5.16433476e-12\n",
      "  2.39268830e-11  3.91555044e-11  4.86394594e-11  5.10065887e-11\n",
      "  4.59232742e-11  3.41431227e-11  1.73970255e-11 -1.85963438e-12\n",
      " -2.08059364e-11 -3.66682259e-11 -4.71264440e-11 -5.06544225e-11\n",
      " -4.67441085e-11 -3.59805574e-11 -1.99563540e-11 -1.03769760e-12\n",
      "  1.79837573e-11  3.43022723e-11  4.55120821e-11  4.99630250e-11\n",
      "  4.70050405e-11  3.70850879e-11  2.16817424e-11  3.08672088e-12\n",
      " -1.59346635e-11 -3.25540441e-11 -4.43006969e-11 -4.94298271e-11\n",
      " -4.71833992e-11 -3.79043016e-11 -2.29863191e-11 -4.66688557e-12\n",
      "  1.43069132e-11  3.10894568e-11  4.31634528e-11  4.87185117e-11\n",
      "  4.69243752e-11  3.80572904e-11  2.34599782e-11  5.34059256e-12\n",
      " -1.35595654e-11 -3.03798689e-11 -4.25733952e-11 -4.82936363e-11\n",
      " -4.66760210e-11 -3.79710670e-11 -2.35082696e-11 -5.49553513e-12\n",
      "  1.33160010e-11  3.00511621e-11  4.21502549e-11  4.77617203e-11\n",
      "  4.60275497e-11  3.72171528e-11  2.26884008e-11  4.68100407e-12\n",
      " -1.40267458e-11 -3.05456051e-11 -4.23217241e-11 -4.75327728e-11\n",
      " -4.53722122e-11 -3.61770469e-11 -2.13783785e-11 -3.28150618e-12\n",
      "  1.52910907e-11  3.14389458e-11  4.26368204e-11  4.71310999e-11\n",
      "  4.42169510e-11  3.43520455e-11  1.90880341e-11  8.29469235e-13\n",
      " -1.75428524e-11 -3.31254893e-11 -4.34516500e-11 -4.68834823e-11\n",
      " -4.28747152e-11 -3.20611164e-11 -1.61632505e-11  2.28417804e-12\n",
      "  2.03343457e-11  3.50982851e-11  4.42080219e-11  4.61985370e-11\n",
      "  4.07466214e-11  2.87271853e-11  1.20766669e-11 -6.51579189e-12\n",
      " -2.40406744e-11 -3.76547835e-11 -4.51436914e-11 -4.52845841e-11\n",
      " -3.80496394e-11 -2.46155474e-11 -7.17612390e-12  1.14128217e-11\n",
      "  2.80994220e-11  4.01367891e-11  4.55369453e-11  4.34023748e-11\n",
      "  3.40794153e-11  1.91066120e-11  9.64899996e-13 -1.73305419e-11\n",
      " -3.27301411e-11 -4.26588837e-11 -4.54493660e-11 -4.06257503e-11\n",
      " -2.89896489e-11 -1.24917333e-11  6.09124461e-12  2.36212509e-11\n",
      "  3.71282731e-11  4.43149955e-11  4.39508933e-11  3.60876235e-11\n",
      "  2.20572582e-11  4.25157512e-12 -1.42819258e-11 -3.03597305e-11\n",
      " -4.12095035e-11 -4.49506975e-11 -4.09248932e-11 -2.98171246e-11\n",
      " -1.35450002e-11  5.06751479e-12  2.27770505e-11  3.64851644e-11\n",
      "  4.37820693e-11  4.33741234e-11  3.53186418e-11  2.10225123e-11\n",
      "  3.00225963e-12 -1.55546281e-11 -3.13514451e-11 -4.15685577e-11\n",
      " -4.43699100e-11 -3.92382836e-11 -2.70772114e-11 -1.00584929e-11\n",
      "  8.76024742e-12  2.59816567e-11  3.84815399e-11  4.39781321e-11\n",
      "  4.14536676e-11  3.13495198e-11  1.54964050e-11 -3.21089774e-12\n",
      " -2.13377766e-11 -3.55389264e-11 -4.31775113e-11 -4.28195300e-11\n",
      " -3.45099100e-11 -1.97760234e-11 -1.35430802e-12  1.73125538e-11\n",
      "  3.27166174e-11  4.19450276e-11  4.32353489e-11  3.63192456e-11\n",
      "  2.24862974e-11  4.35180539e-12 -1.46313052e-11 -3.08267291e-11\n",
      " -4.11119419e-11 -4.34846332e-11 -3.74599255e-11 -2.41782851e-11\n",
      " -6.19880670e-12  1.29866387e-11  2.96276757e-11  4.04488311e-11\n",
      "  4.32987411e-11  3.75857594e-11  2.44103721e-11  6.36328428e-12\n",
      " -1.29759952e-11 -2.97447759e-11 -4.05689443e-11 -4.32467896e-11\n",
      " -3.72054979e-11 -2.36341227e-11 -5.26054770e-12  1.41882034e-11\n",
      "  3.07374757e-11  4.09778780e-11  4.27733949e-11  3.57166711e-11\n",
      "  2.12326502e-11  2.30270845e-12 -1.71400503e-11 -3.30237629e-11\n",
      " -4.19921066e-11 -4.21206078e-11 -3.33408347e-11 -1.74768925e-11\n",
      "  2.12094195e-12  2.12748234e-11  3.58666643e-11  4.27266930e-11\n",
      "  4.03311171e-11  2.91536589e-11  1.15874380e-11 -8.55439213e-12\n",
      " -2.68581974e-11 -3.92755424e-11 -4.30243544e-11 -3.72240332e-11\n",
      " -2.31172663e-11 -3.82009975e-12  1.63536647e-11  3.28504454e-11\n",
      "  4.19062784e-11  4.14149416e-11  3.14328604e-11  1.41968049e-11\n",
      " -6.36068088e-12 -2.54974242e-11 -3.87526166e-11 -4.29927722e-11\n",
      " -3.71664158e-11 -2.25829774e-11 -2.63862335e-12  1.79590936e-11\n",
      "  3.42949160e-11  4.24213931e-11  4.03250056e-11  2.84440502e-11\n",
      "  9.60124414e-12 -1.16472873e-11 -3.01018632e-11 -4.11906921e-11\n",
      " -4.21128546e-11 -3.25651498e-11 -1.48601246e-11  6.61056858e-12\n",
      "  2.64496378e-11  3.96067007e-11  4.26727507e-11  3.47832646e-11\n",
      "  1.78864823e-11 -3.71044560e-12 -2.44198532e-11 -3.88123606e-11\n",
      " -4.30482158e-11 -3.59226642e-11 -1.92361978e-11  2.62929250e-12\n",
      "  2.38384478e-11  3.86511464e-11  4.29842839e-11  3.55605190e-11\n",
      "  1.83156584e-11 -4.07116172e-12 -2.54218469e-11 -3.97554718e-11\n",
      " -4.29741774e-11 -3.40619846e-11 -1.54395919e-11  7.65446073e-12\n",
      "  2.86109487e-11  4.13346182e-11  4.20323650e-11  3.03774577e-11\n",
      "  9.68457140e-12 -1.39913002e-11 -3.36013406e-11 -4.32002532e-11\n",
      " -3.97726085e-11 -2.42219285e-11 -1.18810567e-12  2.22945475e-11\n",
      "  3.89256411e-11  4.34177389e-11  3.42139540e-11  1.40772382e-11\n",
      " -1.06815895e-11 -3.21432215e-11 -4.33054544e-11 -4.03946518e-11\n",
      " -2.41942564e-11  9.07813717e-14  2.44503007e-11  4.06858256e-11\n",
      "  4.31847270e-11  3.09114227e-11  7.89590973e-12 -1.80169682e-11\n",
      " -3.77989723e-11 -4.43865600e-11 -3.52512295e-11 -1.34444554e-11\n",
      "  1.33323876e-11  3.53890630e-11  4.45450366e-11  3.72106143e-11\n",
      "  1.58785297e-11 -1.16162527e-11 -3.49006113e-11 -4.49614307e-11\n",
      " -3.76852404e-11 -1.56368310e-11  1.27191077e-11  3.61819434e-11\n",
      "  4.52234418e-11  3.59199413e-11  1.17693850e-11 -1.74799702e-11\n",
      " -3.96722175e-11 -4.52909034e-11 -3.16275768e-11 -4.22058726e-12\n",
      "  2.52299688e-11  4.37707419e-11  4.29179067e-11  2.26685277e-11\n",
      " -8.13726038e-12 -3.55095897e-11 -4.66068069e-11 -3.58449852e-11\n",
      " -7.89155267e-12  2.41193860e-11  4.46158883e-11  4.31831400e-11\n",
      "  2.00335012e-11 -1.35817697e-11 -4.06119942e-11 -4.68015860e-11\n",
      " -2.83641209e-11  5.44314303e-12  3.66517005e-11  4.80035066e-11\n",
      "  3.26282512e-11 -1.48160789e-12 -3.52189211e-11 -4.88698955e-11\n",
      " -3.37635447e-11  1.84172125e-12  3.67684170e-11  4.92744613e-11\n",
      "  3.07568909e-11 -7.86224833e-12 -4.19757898e-11 -4.87307542e-11\n",
      " -2.26260251e-11  1.94631783e-11  4.85186766e-11  4.32560890e-11\n",
      "  6.24890255e-12 -3.61368997e-11 -5.18878112e-11 -2.77192889e-11\n",
      "  1.88357540e-11  5.09927459e-11  4.14904428e-11 -3.45397354e-12\n",
      " -4.64441564e-11 -4.91725014e-11 -7.22216506e-12  4.24013569e-11\n",
      "  5.24748414e-11  1.09940610e-11 -4.27937004e-11 -5.34831433e-11\n",
      " -7.10130714e-12  4.84007483e-11  5.01525586e-11 -7.36815453e-12\n",
      " -5.78494616e-11 -3.69311235e-11  3.30889033e-11  6.04580786e-11\n",
      "  3.01011117e-12 -6.13146379e-11 -3.38334274e-11  4.93776341e-11\n",
      "  5.27023768e-11 -3.78014072e-11 -6.22184272e-11  3.53728242e-11\n",
      "  6.40393683e-11 -4.94034424e-11 -5.20991733e-11  7.93961309e-11\n",
      " -7.75297942e-13 -8.58502302e-11  1.07869661e-10 -7.84558840e-11\n",
      "  3.96147716e-11 -1.49511939e-11  4.10689023e-12 -9.67670620e-13\n",
      "  5.27550877e-14 -9.82300571e-14 -8.28595110e-14 -8.39986741e-14]\n",
      "[1. 0. 0. 0. 0. 0. 0. 0. 0. 0. 0. 0. 0. 0. 0. 0. 0. 0. 0. 0. 0. 0. 0. 0.\n",
      " 0. 0. 0. 0. 0. 0. 0. 0. 0. 0. 0. 0. 0. 0. 0. 0. 0. 0. 0. 0. 0. 0. 0. 0.\n",
      " 0. 0. 0. 0. 0. 0. 0. 0. 0. 0. 0. 0. 0. 0. 0. 0. 0. 0. 0. 0. 0. 0. 0. 0.\n",
      " 0. 0. 0. 0. 0. 0. 0. 0. 0. 0. 0. 0. 0. 0. 0. 0. 0. 0. 0. 0. 0. 0. 0. 0.\n",
      " 0. 0. 0. 0. 0. 0. 0. 0. 0. 0. 0. 0. 0. 0. 0. 0. 0. 0. 0. 0. 0. 0. 0. 0.\n",
      " 0. 0. 0. 0. 0. 0. 0. 0. 0. 0. 0. 0. 0. 0. 0. 0. 0. 0. 0. 0. 0. 0. 0. 0.\n",
      " 0. 0. 0. 0. 0. 0. 0. 0. 0. 0. 0. 0. 0. 0. 0. 0. 0. 0. 0. 0. 0. 0. 0. 0.\n",
      " 0. 0. 0. 0. 0. 0. 0. 0. 0. 0. 0. 0. 0. 0. 0. 0. 0. 0. 0. 0. 0. 0. 0. 0.\n",
      " 0. 0. 0. 0. 0. 0. 0. 0. 0. 0. 0. 0. 0. 0. 0. 0. 0. 0. 0. 0. 0. 0. 0. 0.\n",
      " 0. 0. 0. 0. 0. 0. 0. 0. 0. 0. 0. 0. 0. 0. 0. 0. 0. 0. 0. 0. 0. 0. 0. 0.\n",
      " 0. 0. 0. 0. 0. 0. 0. 0. 0. 0. 0. 0. 0. 0. 0. 0. 0. 0. 0. 0. 0. 0. 0. 0.\n",
      " 0. 0. 0. 0. 0. 0. 0. 0. 0. 0. 0. 0. 0. 0. 0. 0. 0. 0. 0. 0. 0. 0. 0. 0.\n",
      " 0. 0. 0. 0. 0. 0. 0. 0. 0. 0. 0. 0. 0. 0. 0. 0. 0. 0. 0. 0. 0. 0. 0. 0.\n",
      " 0. 0. 0. 0. 0. 0. 0. 0. 0. 0. 0. 0. 0. 0. 0. 0. 0. 0. 0. 0. 0. 0. 0. 0.\n",
      " 0. 0. 0. 0. 0. 0. 0. 0. 0. 0. 0. 0. 0. 0. 0. 0. 0. 0. 0. 0. 0. 0. 0. 0.\n",
      " 0. 0. 0. 0. 0. 0. 0. 0. 0. 0. 0. 0. 0. 0. 0. 0. 0. 0. 0. 0. 0. 0. 0. 0.\n",
      " 0. 0. 0. 0. 0. 0. 0. 0. 0. 0. 0. 0. 0. 0. 0. 0. 0. 0. 0. 0. 0. 0. 0. 0.\n",
      " 0. 0. 0. 0. 0. 0. 0. 0. 0. 0. 0. 0. 0. 0. 0. 0. 0. 0. 0. 0. 0. 0. 0. 0.\n",
      " 0. 0. 0. 0. 0. 0. 0. 0. 0. 0. 0. 0. 0. 0. 0. 0. 0. 0. 0. 0. 0. 0. 0. 0.\n",
      " 0. 0. 0. 0. 0. 0. 0. 0. 0. 0. 0. 0. 0. 0. 0. 0. 0. 0. 0. 0. 0. 0. 0. 0.\n",
      " 0. 0. 0. 0. 0. 0. 0. 0. 0. 0. 0. 0. 0. 0. 0. 0. 0. 0. 0. 0. 0. 0. 0. 0.\n",
      " 0. 0. 0. 0. 0. 0. 0. 0. 0. 0. 0. 0. 0. 0. 0. 0. 0. 0. 0. 0. 0. 0. 0. 0.\n",
      " 0. 0. 0. 0. 0. 0. 0. 0. 0. 0. 0. 0. 0. 0. 0. 0. 0. 0. 0. 0. 0. 0. 0. 0.\n",
      " 0. 0. 0. 0. 0. 0. 0. 0. 0. 0. 0. 0. 0. 0. 0. 0. 0. 0. 0. 0. 0. 0. 0. 0.\n",
      " 0. 0. 0. 0. 0. 0. 0. 0. 0. 0. 0. 0. 0. 0. 0. 0. 0. 0. 0. 0. 0. 0. 0. 0.\n",
      " 0. 0. 0. 0. 0. 0. 0. 0. 0. 0. 0. 0. 0. 0. 0. 0. 0. 0. 0. 0. 0. 0. 0. 0.\n",
      " 0. 0. 0. 0. 0. 0. 0. 0. 0. 0. 0. 0. 0. 0. 0. 0. 0. 0. 0. 0. 0. 0. 0. 0.\n",
      " 0. 0. 0. 0. 0. 0. 0. 0. 0. 0. 0. 0. 0. 0. 0. 0. 0. 0. 0. 0. 0. 0. 0. 0.\n",
      " 0. 0. 0. 0. 0. 0. 0. 0. 0. 0. 0. 0. 0. 0. 0. 0. 0. 0. 0. 0. 0. 0. 0. 0.\n",
      " 0. 0. 0. 0. 0. 0. 0. 0. 0. 0. 0. 0. 0. 0. 0. 0. 0. 0. 0. 0. 0. 0. 0. 0.\n",
      " 0. 0. 0. 0. 0. 0. 0. 0. 0. 0. 0. 0. 0. 0. 0. 0. 0. 0. 0. 0. 0. 0. 0. 0.\n",
      " 0. 0. 0. 0. 0. 0. 0. 0. 0. 0. 0. 0. 0. 0. 0. 0. 0. 0. 0. 0. 0. 0. 0. 0.\n",
      " 0. 0. 0. 0. 0. 0. 0. 0. 0. 0. 0. 0. 0. 0. 0. 0. 0. 0. 0. 0. 0. 0. 0. 0.\n",
      " 0. 0. 0. 0. 0. 0. 0. 0. 0. 0. 0. 0. 0. 0. 0. 0. 0. 0. 0. 0. 0. 0. 0. 0.\n",
      " 0. 0. 0. 0. 0. 0. 0. 0. 0. 0. 0. 0. 0. 0. 0. 0. 0. 0. 0. 0. 0. 0. 0. 0.\n",
      " 0. 0. 0. 0. 0. 0. 0. 0. 0. 0. 0. 0. 0. 0. 0. 0. 0. 0. 0. 0. 0. 0. 0. 0.\n",
      " 0. 0. 0. 0. 0. 0. 0. 0. 0. 0. 0. 0. 0. 0. 0. 0. 0. 0. 0. 0. 0. 0. 0. 0.\n",
      " 0. 0. 0. 0. 0. 0. 0. 0. 0. 0. 0. 0. 0. 0. 0. 0. 0. 0. 0. 0. 0. 0. 0. 0.\n",
      " 0. 0. 0. 0. 0. 0. 0. 0. 0. 0. 0. 0. 0. 0. 0. 0. 0. 0. 0. 0. 0. 0. 0. 0.\n",
      " 0. 0. 0. 0. 0. 0. 0. 0. 0. 0. 0. 0. 0. 0. 0. 0. 0. 0. 0. 0. 0. 0. 0. 0.\n",
      " 0. 0. 0. 0. 0. 0. 0. 0. 0. 0. 0. 0. 0. 0. 0. 0. 0. 0. 0. 0. 0. 0. 0. 0.\n",
      " 0. 0. 0. 0. 0. 0. 0. 0. 0. 0. 0. 0. 0. 0. 0. 0.]\n",
      "[ 1.00000000e+00  1.54699061e-13 -1.86463683e-12 ... -1.90996858e-13\n",
      " -1.86190895e-13 -1.86632492e-13]\n"
     ]
    },
    {
     "name": "stdout",
     "output_type": "stream",
     "text": [
      "[1. 0. 0. ... 0. 0. 0.]\n"
     ]
    }
   ],
   "source": [
    "# compare cg method results with numpy.linalg.solve(A,b)\n",
    "print(x1_50)\n",
    "print(np.linalg.solve(A_50,b_50))\n",
    "\n",
    "print(x1_100)\n",
    "print(np.linalg.solve(A_100,b_100))\n",
    "\n",
    "print(x1_1000)\n",
    "print(np.linalg.solve(A_1000,b_1000))\n",
    "\n",
    "print(x1_2500)\n",
    "print(np.linalg.solve(A_2500,b_2500))"
   ]
  },
  {
   "cell_type": "code",
   "execution_count": 400,
   "metadata": {},
   "outputs": [
    {
     "data": {
      "image/png": "[encoded data removed]",
      "text/plain": [
       "<Figure size 432x288 with 2 Axes>"
      ]
     },
     "metadata": {
      "needs_background": "light"
     },
     "output_type": "display_data"
    }
   ],
   "source": [
    "# Compare with two methods in matrix size : 50 * 50\n",
    "xk_minus_xstar_norm = []\n",
    "gxk_minus_xstar_norm = []\n",
    "x_star_50 = np.dot(np.linalg.inv(A_50), b_50)\n",
    "for xk in xk_50:\n",
    "    k1 = float(xk[0] - x_star_50[0])\n",
    "    k2 = float(xk[1] - x_star_50[1])\n",
    "    norm = np.sqrt(k1 ** 2 + k2 ** 2)\n",
    "    xk_minus_xstar_norm.append(norm)\n",
    "\n",
    "for xk in gxk_50:\n",
    "    k1 = float(xk[0] - x_star_50[0])\n",
    "    k2 = float(xk[1] - x_star_50[1])\n",
    "    norm = np.sqrt(k1 ** 2 + k2 ** 2)\n",
    "    gxk_minus_xstar_norm.append(norm)\n",
    "    \n",
    "plt.figure()\n",
    "plt.subplot(121)\n",
    "plt.plot(np.log(xk_minus_xstar_norm))\n",
    "plt.title('CG Method:Log ||xk-x*||', y=-0.2)\n",
    "plt.subplot(122)\n",
    "plt.plot(np.log(gxk_minus_xstar_norm))\n",
    "plt.title('Gradient Method:Log ||xk-x*||', y=-0.2)\n",
    "\n",
    "plt.suptitle('Matrix size: 50 * 50')\n",
    "plt.show()"
   ]
  },
  {
   "cell_type": "code",
   "execution_count": 401,
   "metadata": {},
   "outputs": [
    {
     "data": {
      "image/png": "[encoded data removed]",
      "text/plain": [
       "<Figure size 432x288 with 2 Axes>"
      ]
     },
     "metadata": {
      "needs_background": "light"
     },
     "output_type": "display_data"
    }
   ],
   "source": [
    "# Compare with two methods in matrix size : 100 * 100\n",
    "xk_minus_xstar_norm = []\n",
    "gxk_minus_xstar_norm = []\n",
    "x_star_100 = np.dot(np.linalg.inv(A_100), b_100)\n",
    "for xk in xk_100:\n",
    "    k1 = float(xk[0] - x_star_50[0])\n",
    "    k2 = float(xk[1] - x_star_50[1])\n",
    "    norm = np.sqrt(k1 ** 2 + k2 ** 2)\n",
    "    xk_minus_xstar_norm.append(norm)\n",
    "\n",
    "for xk in gxk_100:\n",
    "    k1 = float(xk[0] - x_star_50[0])\n",
    "    k2 = float(xk[1] - x_star_50[1])\n",
    "    norm = np.sqrt(k1 ** 2 + k2 ** 2)\n",
    "    gxk_minus_xstar_norm.append(norm)\n",
    "    \n",
    "plt.figure()\n",
    "plt.subplot(121)\n",
    "plt.plot(np.log(xk_minus_xstar_norm))\n",
    "plt.title('CG Method:Log ||xk-x*||', y=-0.2)\n",
    "plt.subplot(122)\n",
    "plt.plot(np.log(gxk_minus_xstar_norm))\n",
    "plt.title('Gradient Method:Log ||xk-x*||', y=-0.2)\n",
    "\n",
    "plt.suptitle('Matrix size: 100 * 100')\n",
    "plt.show()"
   ]
  },
  {
   "cell_type": "code",
   "execution_count": 402,
   "metadata": {},
   "outputs": [
    {
     "data": {
      "image/png": "[encoded data removed]",
      "text/plain": [
       "<Figure size 432x288 with 2 Axes>"
      ]
     },
     "metadata": {
      "needs_background": "light"
     },
     "output_type": "display_data"
    }
   ],
   "source": [
    "# Compare with two methods in matrix size : 1000 * 1000\n",
    "xk_minus_xstar_norm = []\n",
    "gxk_minus_xstar_norm = []\n",
    "x_star_1000 = np.dot(np.linalg.inv(A_1000), b_1000)\n",
    "for xk in xk_1000:\n",
    "    k1 = float(xk[0] - x_star_50[0])\n",
    "    k2 = float(xk[1] - x_star_50[1])\n",
    "    norm = np.sqrt(k1 ** 2 + k2 ** 2)\n",
    "    xk_minus_xstar_norm.append(norm)\n",
    "\n",
    "for xk in gxk_1000:\n",
    "    k1 = float(xk[0] - x_star_50[0])\n",
    "    k2 = float(xk[1] - x_star_50[1])\n",
    "    norm = np.sqrt(k1 ** 2 + k2 ** 2)\n",
    "    gxk_minus_xstar_norm.append(norm)\n",
    "    \n",
    "plt.figure()\n",
    "plt.subplot(121)\n",
    "plt.plot(np.log(xk_minus_xstar_norm))\n",
    "plt.title('CG Method:Log ||xk-x*||', y=-0.2)\n",
    "plt.subplot(122)\n",
    "plt.plot(np.log(gxk_minus_xstar_norm))\n",
    "plt.title('Gradient Method:Log ||xk-x*||', y=-0.2)\n",
    "\n",
    "plt.suptitle('Matrix size: 1000 * 1000')\n",
    "plt.show()"
   ]
  },
  {
   "cell_type": "code",
   "execution_count": 408,
   "metadata": {},
   "outputs": [
    {
     "data": {
      "image/png": "[encoded data removed]",
      "text/plain": [
       "<Figure size 432x288 with 2 Axes>"
      ]
     },
     "metadata": {
      "needs_background": "light"
     },
     "output_type": "display_data"
    }
   ],
   "source": [
    "# Compare with two methods in matrix size : 2500 * 2500\n",
    "xk_minus_xstar_norm = []\n",
    "gxk_minus_xstar_norm = []\n",
    "x_star_2500 = np.dot(np.linalg.inv(A_2500), b_2500)\n",
    "for xk in xk_2500:\n",
    "    k1 = float(xk[0] - x_star_50[0])\n",
    "    k2 = float(xk[1] - x_star_50[1])\n",
    "    norm = np.sqrt(k1 ** 2 + k2 ** 2)\n",
    "    xk_minus_xstar_norm.append(norm)\n",
    "\n",
    "for xk in gxk_2500:\n",
    "    k1 = float(xk[0] - x_star_50[0])\n",
    "    k2 = float(xk[1] - x_star_50[1])\n",
    "    norm = np.sqrt(k1 ** 2 + k2 ** 2)\n",
    "    gxk_minus_xstar_norm.append(norm)\n",
    "    \n",
    "plt.figure()\n",
    "plt.subplot(121)\n",
    "plt.plot(np.log(xk_minus_xstar_norm))\n",
    "plt.title('CG Method:Log ||xk-x*||', y=-0.4)\n",
    "plt.subplot(122)\n",
    "plt.plot(np.log(gxk_minus_xstar_norm))\n",
    "plt.title('Gradient Method:Log ||xk-x*||', y=-0.4)\n",
    "plt.xticks(rotation=90)\n",
    "\n",
    "plt.suptitle('Matrix size: 2500 * 2500')\n",
    "plt.show()"
   ]
  },
  {
   "cell_type": "code",
   "execution_count": null,
   "metadata": {},
   "outputs": [],
   "source": []
  }
 ],
 "metadata": {
  "kernelspec": {
   "display_name": "Python [conda env:root] *",
   "language": "python",
   "name": "conda-root-py"
  },
  "language_info": {
   "codemirror_mode": {
    "name": "ipython",
    "version": 3
   },
   "file_extension": ".py",
   "mimetype": "text/x-python",
   "name": "python",
   "nbconvert_exporter": "python",
   "pygments_lexer": "ipython3",
   "version": "3.7.3"
  }
 },
 "nbformat": 4,
 "nbformat_minor": 2
}
